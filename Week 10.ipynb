{
 "cells": [
  {
   "cell_type": "code",
   "execution_count": 1,
   "metadata": {
    "collapsed": true,
    "ExecuteTime": {
     "end_time": "2024-03-20T02:42:12.145208Z",
     "start_time": "2024-03-20T02:42:12.048812Z"
    }
   },
   "outputs": [],
   "source": [
    "from itertools import permutations\n",
    "import numpy as np\n",
    "import math"
   ]
  },
  {
   "cell_type": "code",
   "execution_count": 2,
   "outputs": [],
   "source": [
    "# Generate all possible 3x3 grids using numbers 1 to 9:\n",
    "def generate_grids():\n",
    "    return [np.array(p).reshape(3, 3) for p in permutations(range(1, 10))]"
   ],
   "metadata": {
    "collapsed": false,
    "ExecuteTime": {
     "end_time": "2024-03-20T02:42:12.162232Z",
     "start_time": "2024-03-20T02:42:12.152928Z"
    }
   }
  },
  {
   "cell_type": "code",
   "execution_count": 3,
   "outputs": [],
   "source": [
    "#Define the relevant D4 transformations:\n",
    "def rotate_grid(grid):\n",
    "    # Rotate the grid by 90 degrees\n",
    "    return np.rot90(grid)\n",
    "\n",
    "def reflect_grid(grid, axis):\n",
    "    # Reflect the grid over a specified axis ('vertical' or 'horizontal')\n",
    "    if axis == 'vertical':\n",
    "        return np.fliplr(grid)\n",
    "    elif axis == 'horizontal':\n",
    "        return np.flipud(grid)"
   ],
   "metadata": {
    "collapsed": false,
    "ExecuteTime": {
     "end_time": "2024-03-20T02:42:12.179771Z",
     "start_time": "2024-03-20T02:42:12.166225Z"
    }
   }
  },
  {
   "cell_type": "code",
   "execution_count": 4,
   "outputs": [],
   "source": [
    "# Apply all D4 transformations to the grid and return the set of unique grids\n",
    "def apply_transformations(grid):\n",
    "    # Apply all D4 transformations to the grid and return the set of unique grids\n",
    "    transformations = {tuple(grid.flatten())}\n",
    "    for _ in range(3):\n",
    "        grid = rotate_grid(grid)\n",
    "        transformations.add(tuple(grid.flatten()))\n",
    "    transformations.add(tuple(reflect_grid(grid, 'vertical').flatten()))\n",
    "    transformations.add(tuple(reflect_grid(grid, 'horizontal').flatten()))\n",
    "    grid = reflect_grid(grid, 'vertical')  # Reflect back for diagonal reflections\n",
    "    transformations.add(tuple(np.fliplr(np.rot90(grid)).flatten()))\n",
    "    transformations.add(tuple(np.rot90(np.fliplr(grid)).flatten()))\n",
    "    return transformations\n",
    "\n"
   ],
   "metadata": {
    "collapsed": false,
    "ExecuteTime": {
     "end_time": "2024-03-20T02:42:12.194296Z",
     "start_time": "2024-03-20T02:42:12.186840Z"
    }
   }
  },
  {
   "cell_type": "code",
   "execution_count": 5,
   "outputs": [],
   "source": [
    "# Function to find unique grids that generate their 'class'\n",
    "def find_unique_grids(grids):\n",
    "    unique_grids = set()\n",
    "    seen_transformations = set()\n",
    "\n",
    "    for grid in grids:\n",
    "        transformations = apply_transformations(grid)\n",
    "        if not seen_transformations.intersection(transformations):\n",
    "            unique_grids.add(tuple(grid.flatten()))\n",
    "            seen_transformations.update(transformations)\n",
    "\n",
    "    return [np.array(grid).reshape(3, 3) for grid in unique_grids]\n"
   ],
   "metadata": {
    "collapsed": false,
    "ExecuteTime": {
     "end_time": "2024-03-20T02:42:12.236892Z",
     "start_time": "2024-03-20T02:42:12.221254Z"
    }
   }
  },
  {
   "cell_type": "code",
   "execution_count": 6,
   "outputs": [
    {
     "name": "stdout",
     "output_type": "stream",
     "text": [
      "Number of unique grids after applying D4 transformations: 45360\n"
     ]
    }
   ],
   "source": [
    "grids = generate_grids()\n",
    "unique_grids = find_unique_grids(grids)\n",
    "print(f\"Number of unique grids after applying D4 transformations: {len(unique_grids)}\")"
   ],
   "metadata": {
    "collapsed": false,
    "ExecuteTime": {
     "end_time": "2024-03-20T02:42:20.930488Z",
     "start_time": "2024-03-20T02:42:12.308074Z"
    }
   }
  },
  {
   "cell_type": "code",
   "execution_count": 7,
   "outputs": [],
   "source": [
    "#Funtion that checks which of these grids have a possible 1-9 path\n",
    "def is_adjacent(grid, num1, num2):\n",
    "    pos1 = np.argwhere(grid == num1)\n",
    "    pos2 = np.argwhere(grid == num2)\n",
    "\n",
    "    if not pos1.size or not pos2.size:  # Check if either position is missing\n",
    "        return False\n",
    "\n",
    "    pos1, pos2 = pos1[0], pos2[0]\n",
    "    return np.max(np.abs(pos1 - pos2)) <= 1\n",
    "\n",
    "def find_adjacent_pairs(grid):\n",
    "    adjacent_pairs = []\n",
    "    for num in range(1, 9):  # Check pairs 1-2 to 8-9\n",
    "        if is_adjacent(grid, num, num + 1):\n",
    "            adjacent_pairs.append((num, num + 1))\n",
    "    return adjacent_pairs\n",
    "\n",
    "def find_largest_path_length(adjacent_pairs):\n",
    "    if not adjacent_pairs:\n",
    "        return 0\n",
    "\n",
    "    # Sort pairs to ensure they are in ascending order\n",
    "    adjacent_pairs.sort()\n",
    "    max_length = 1\n",
    "    current_length = 1\n",
    "\n",
    "    for i in range(1, len(adjacent_pairs)):\n",
    "        if adjacent_pairs[i][0] == adjacent_pairs[i-1][1]:  # Check if pairs are connected\n",
    "            current_length += 1\n",
    "            max_length = max(max_length, current_length)\n",
    "        else:\n",
    "            current_length = 1  # Reset if pairs are not connected\n",
    "\n",
    "    return max_length\n"
   ],
   "metadata": {
    "collapsed": false,
    "ExecuteTime": {
     "end_time": "2024-03-20T02:42:20.934513Z",
     "start_time": "2024-03-20T02:42:20.933149Z"
    }
   }
  },
  {
   "cell_type": "code",
   "execution_count": 8,
   "outputs": [],
   "source": [
    "path_length_counters = {i: 0 for i in range(1, 10)}"
   ],
   "metadata": {
    "collapsed": false,
    "ExecuteTime": {
     "end_time": "2024-03-20T02:42:20.936489Z",
     "start_time": "2024-03-20T02:42:20.935193Z"
    }
   }
  },
  {
   "cell_type": "code",
   "execution_count": 9,
   "outputs": [
    {
     "name": "stdout",
     "output_type": "stream",
     "text": [
      "Path length counters: {1: 2724, 2: 17170, 3: 14066, 4: 6918, 5: 2840, 6: 1144, 7: 400, 8: 98, 9: 0}\n"
     ]
    }
   ],
   "source": [
    "for grid in unique_grids:\n",
    "    adjacent_pairs = find_adjacent_pairs(grid)\n",
    "    max_path_length = find_largest_path_length(adjacent_pairs)\n",
    "    path_length_counters[max_path_length] += 1\n",
    "\n",
    "print(\"Path length counters:\", path_length_counters)\n"
   ],
   "metadata": {
    "collapsed": false,
    "ExecuteTime": {
     "end_time": "2024-03-20T02:42:23.333519Z",
     "start_time": "2024-03-20T02:42:20.938169Z"
    }
   }
  },
  {
   "cell_type": "code",
   "execution_count": 10,
   "outputs": [],
   "source": [
    "#Finding the average length\n",
    "def calculate_expected_value(path_counters,unique_grids):\n",
    "    expected_value = 0\n",
    "\n",
    "    for path_length, counter in path_counters.items():\n",
    "        # Calculate the probability for this path length\n",
    "        cal = (path_length+1)*counter*8*(1/2)**(path_length)+1\n",
    "        # Add to the expected value the product of path length and its probability\n",
    "        expected_value += cal\n",
    "\n",
    "    return expected_value/len(unique_grids)\n"
   ],
   "metadata": {
    "collapsed": false,
    "ExecuteTime": {
     "end_time": "2024-03-20T02:42:23.337004Z",
     "start_time": "2024-03-20T02:42:23.334942Z"
    }
   }
  },
  {
   "cell_type": "code",
   "execution_count": 11,
   "outputs": [
    {
     "name": "stdout",
     "output_type": "stream",
     "text": [
      "Expected value of path length: 4.494456845238095\n"
     ]
    }
   ],
   "source": [
    "expected_value = calculate_expected_value(path_length_counters, unique_grids)\n",
    "print(\"Expected value of path length:\", expected_value)"
   ],
   "metadata": {
    "collapsed": false,
    "ExecuteTime": {
     "end_time": "2024-03-20T02:42:23.339907Z",
     "start_time": "2024-03-20T02:42:23.337993Z"
    }
   }
  },
  {
   "cell_type": "code",
   "execution_count": 11,
   "outputs": [],
   "source": [],
   "metadata": {
    "collapsed": false,
    "ExecuteTime": {
     "end_time": "2024-03-20T02:42:23.341489Z",
     "start_time": "2024-03-20T02:42:23.340246Z"
    }
   }
  }
 ],
 "metadata": {
  "kernelspec": {
   "display_name": "Python 3",
   "language": "python",
   "name": "python3"
  },
  "language_info": {
   "codemirror_mode": {
    "name": "ipython",
    "version": 2
   },
   "file_extension": ".py",
   "mimetype": "text/x-python",
   "name": "python",
   "nbconvert_exporter": "python",
   "pygments_lexer": "ipython2",
   "version": "2.7.6"
  }
 },
 "nbformat": 4,
 "nbformat_minor": 0
}
